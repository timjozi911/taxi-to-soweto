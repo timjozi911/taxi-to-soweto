{
 "cells": [
  {
   "cell_type": "markdown",
   "metadata": {},
   "source": [
    "start by installing gym enviroment"
   ]
  },
  {
   "cell_type": "code",
   "execution_count": 7,
   "metadata": {},
   "outputs": [],
   "source": [
    "import gym"
   ]
  },
  {
   "cell_type": "markdown",
   "metadata": {},
   "source": [
    "Load the game environment and render what it looks like"
   ]
  },
  {
   "cell_type": "code",
   "execution_count": 8,
   "metadata": {},
   "outputs": [
    {
     "data": {
      "text/plain": [
       "array([[[110, 109, 106],\n",
       "        [110, 109, 106],\n",
       "        [124, 122, 122],\n",
       "        ...,\n",
       "        [108, 111, 109],\n",
       "        [108, 111, 109],\n",
       "        [118, 119, 119]],\n",
       "\n",
       "       [[110, 109, 106],\n",
       "        [110, 109, 106],\n",
       "        [124, 122, 122],\n",
       "        ...,\n",
       "        [108, 111, 109],\n",
       "        [108, 111, 109],\n",
       "        [118, 119, 119]],\n",
       "\n",
       "       [[114, 116, 115],\n",
       "        [114, 116, 115],\n",
       "        [126, 127, 126],\n",
       "        ...,\n",
       "        [112, 113, 111],\n",
       "        [112, 113, 111],\n",
       "        [118, 117, 115]],\n",
       "\n",
       "       ...,\n",
       "\n",
       "       [[116, 115, 116],\n",
       "        [116, 115, 116],\n",
       "        [106, 107, 108],\n",
       "        ...,\n",
       "        [113, 115, 114],\n",
       "        [113, 115, 114],\n",
       "        [117, 114, 117]],\n",
       "\n",
       "       [[116, 115, 116],\n",
       "        [116, 115, 116],\n",
       "        [106, 107, 108],\n",
       "        ...,\n",
       "        [113, 115, 114],\n",
       "        [113, 115, 114],\n",
       "        [117, 114, 117]],\n",
       "\n",
       "       [[115, 112, 112],\n",
       "        [115, 112, 112],\n",
       "        [119, 119, 117],\n",
       "        ...,\n",
       "        [123, 119, 118],\n",
       "        [123, 119, 118],\n",
       "        [114, 114, 117]]], dtype=uint8)"
      ]
     },
     "execution_count": 8,
     "metadata": {},
     "output_type": "execute_result"
    }
   ],
   "source": [
    "env = gym.make(\"Taxi-v3\",  render_mode=\"rgb_array\").env\n",
    "env.reset()\n",
    "env.render()"
   ]
  }
 ],
 "metadata": {
  "kernelspec": {
   "display_name": "taxi",
   "language": "python",
   "name": "python3"
  },
  "language_info": {
   "codemirror_mode": {
    "name": "ipython",
    "version": 3
   },
   "file_extension": ".py",
   "mimetype": "text/x-python",
   "name": "python",
   "nbconvert_exporter": "python",
   "pygments_lexer": "ipython3",
   "version": "3.10.13"
  }
 },
 "nbformat": 4,
 "nbformat_minor": 2
}
